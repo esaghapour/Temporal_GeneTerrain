{
  "nbformat": 4,
  "nbformat_minor": 0,
  "metadata": {
    "colab": {
      "provenance": [],
      "authorship_tag": "ABX9TyNOzrcI0eSb5YEb0VfCArIW",
      "include_colab_link": true
    },
    "kernelspec": {
      "name": "python3",
      "display_name": "Python 3"
    },
    "language_info": {
      "name": "python"
    }
  },
  "cells": [
    {
      "cell_type": "markdown",
      "metadata": {
        "id": "view-in-github",
        "colab_type": "text"
      },
      "source": [
        "<a href=\"https://colab.research.google.com/github/esaghapour/Temporal_GeneTerrain/blob/main/Gene_set_enrichment_analysis__Temporal_Visualization.ipynb\" target=\"_parent\"><img src=\"https://colab.research.google.com/assets/colab-badge.svg\" alt=\"Open In Colab\"/></a>"
      ]
    },
    {
      "cell_type": "code",
      "execution_count": 2,
      "metadata": {
        "id": "k4xA28XcwhnS"
      },
      "outputs": [],
      "source": [
        "#!pip install gseapy"
      ]
    },
    {
      "cell_type": "code",
      "source": [
        "import pandas as pd\n",
        "import gseapy as gp\n",
        "import matplotlib.pyplot as plt"
      ],
      "metadata": {
        "id": "WDG9qSbNxG0_"
      },
      "execution_count": null,
      "outputs": []
    }
  ]
}